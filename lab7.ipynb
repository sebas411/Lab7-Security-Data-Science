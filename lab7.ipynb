{
 "cells": [
  {
   "cell_type": "markdown",
   "id": "a5f51ce6",
   "metadata": {},
   "source": [
    "# Laboratorio 7 - Ataques a modelos de Deep Learning"
   ]
  },
  {
   "cell_type": "code",
   "execution_count": 21,
   "id": "baf6ae56",
   "metadata": {},
   "outputs": [],
   "source": [
    "import warnings\n",
    "warnings.filterwarnings('ignore')\n",
    "\n",
    "import os\n",
    "import cv2\n",
    "import numpy as np\n",
    "import tensorflow as tf\n",
    "import matplotlib.pyplot as plt\n",
    "from tensorflow.keras.layers import Conv2D, MaxPool2D, Dense, Flatten\n",
    "from art.attacks.extraction import CopycatCNN\n",
    "from art.attacks.evasion import AdversarialPatch\n",
    "from art.estimators.classification import KerasClassifier\n",
    "from keras.models import load_model\n",
    "from sklearn.utils import shuffle\n"
   ]
  },
  {
   "cell_type": "code",
   "execution_count": 2,
   "id": "37872758",
   "metadata": {},
   "outputs": [],
   "source": [
    "# Disabling eager execution from TF 2\n",
    "tf.compat.v1.disable_eager_execution()\n"
   ]
  },
  {
   "cell_type": "code",
   "execution_count": 3,
   "id": "ebeb66f1",
   "metadata": {},
   "outputs": [],
   "source": [
    "def load_data():\n",
    "    DIRECTORY = os.getcwd()\n",
    "    DIRECTORY = os.path.join(DIRECTORY, \"malimg_paper_dataset_imgs\")\n",
    "    images = []\n",
    "    labels = []\n",
    "    i = 0\n",
    "    for folder in os.listdir(DIRECTORY):\n",
    "        folder_directory = os.path.join(DIRECTORY, folder)\n",
    "        if not os.path.isdir(folder_directory): continue\n",
    "                \n",
    "        for file in os.listdir(folder_directory):\n",
    "            img_path = os.path.join(folder_directory, file)\n",
    "            image = cv2.imread(img_path)\n",
    "            image = cv2.cvtColor(image, cv2.COLOR_BGR2RGB)\n",
    "            image = cv2.resize(image, (150, 150))\n",
    "            labels.append(i)\n",
    "            images.append(image)\n",
    "            \n",
    "        i += 1\n",
    "    \n",
    "    images = np.array(images, dtype = 'float32')\n",
    "    labels = np.array(labels, dtype = 'int32')\n",
    "    \n",
    "    return images, labels"
   ]
  },
  {
   "cell_type": "code",
   "execution_count": 4,
   "id": "73f001b5",
   "metadata": {},
   "outputs": [
    {
     "name": "stderr",
     "output_type": "stream",
     "text": [
      "2023-05-23 09:02:12.179564: I tensorflow/compiler/xla/stream_executor/cuda/cuda_gpu_executor.cc:996] successful NUMA node read from SysFS had negative value (-1), but there must be at least one NUMA node, so returning NUMA node zero. See more at https://github.com/torvalds/linux/blob/v6.0/Documentation/ABI/testing/sysfs-bus-pci#L344-L355\n",
      "2023-05-23 09:02:12.207787: W tensorflow/core/common_runtime/gpu/gpu_device.cc:1956] Cannot dlopen some GPU libraries. Please make sure the missing libraries mentioned above are installed properly if you would like to use GPU. Follow the guide at https://www.tensorflow.org/install/gpu for how to download and setup the required libraries for your platform.\n",
      "Skipping registering GPU devices...\n",
      "2023-05-23 09:02:12.275733: I tensorflow/compiler/mlir/mlir_graph_optimization_pass.cc:353] MLIR V1 optimization pass is not enabled\n",
      "2023-05-23 09:02:12.288193: W tensorflow/c/c_api.cc:300] Operation '{name:'AssignVariableOp' id:144 op device:{requested: '/device:CPU:0', assigned: ''} def:{{{node AssignVariableOp}} = AssignVariableOp[_has_manual_control_dependencies=true, dtype=DT_FLOAT, validate_shape=false, _device=\"/device:CPU:0\"](count, Identity)}}' was changed by setting attribute after it was run by a session. This mutation will have no effect, and will trigger an error in the future. Either don't modify nodes after running them or create a new session.\n"
     ]
    }
   ],
   "source": [
    "target_model = load_model('modelo_lab6')\n",
    "classifier = KerasClassifier(model=target_model, clip_values=(0,1))"
   ]
  },
  {
   "cell_type": "code",
   "execution_count": 33,
   "id": "0386d6db",
   "metadata": {},
   "outputs": [],
   "source": [
    "images, labels = load_data()"
   ]
  },
  {
   "cell_type": "code",
   "execution_count": 34,
   "id": "47095469",
   "metadata": {},
   "outputs": [],
   "source": [
    "n_images = 1000\n",
    "images, labels = shuffle(images[:n_images], labels[:n_images], random_state=42)"
   ]
  },
  {
   "cell_type": "code",
   "execution_count": 35,
   "id": "e6b8b760",
   "metadata": {},
   "outputs": [],
   "source": [
    "breakpoint = int(n_images*0.7)\n",
    "train_images = images[:breakpoint]\n",
    "train_labels = labels[:breakpoint]\n",
    "test_images = images[breakpoint:]\n",
    "test_labels = labels[breakpoint:]"
   ]
  },
  {
   "cell_type": "code",
   "execution_count": 8,
   "id": "40ea9e00",
   "metadata": {},
   "outputs": [],
   "source": [
    "def create_blank_model():\n",
    "    model = tf.keras.models.Sequential([\n",
    "        Conv2D(32, (3, 3), activation=\"relu\", input_shape=(150, 150, 3)),\n",
    "        MaxPool2D(2, 2),\n",
    "        Conv2D(32, (3, 3), activation=\"relu\"),\n",
    "        MaxPool2D(2, 2),\n",
    "        Flatten(),\n",
    "        Dense(128, activation=tf.nn.relu),     \n",
    "        Dense(25, activation=tf.nn.softmax)\n",
    "    ])\n",
    "\n",
    "    model.compile(\n",
    "        optimizer=\"adam\",\n",
    "        loss=\"sparse_categorical_crossentropy\",\n",
    "        metrics=[\"accuracy\"]\n",
    "        )\n",
    "\n",
    "    return model"
   ]
  },
  {
   "cell_type": "markdown",
   "id": "b9f5f139",
   "metadata": {},
   "source": [
    "## Ataque de evasión (Adversarial Patch)"
   ]
  },
  {
   "cell_type": "code",
   "execution_count": 12,
   "id": "75d99e31",
   "metadata": {},
   "outputs": [],
   "source": [
    "attack = AdversarialPatch(classifier=classifier)"
   ]
  },
  {
   "cell_type": "code",
   "execution_count": 14,
   "id": "6798943d",
   "metadata": {},
   "outputs": [
    {
     "data": {
      "application/vnd.jupyter.widget-view+json": {
       "model_id": "5589d3644e2d410b9ec7b7fd0e32d8e5",
       "version_major": 2,
       "version_minor": 0
      },
      "text/plain": [
       "Adversarial Patch Numpy:   0%|          | 0/500 [00:00<?, ?it/s]"
      ]
     },
     "metadata": {},
     "output_type": "display_data"
    }
   ],
   "source": [
    "images_adv = attack.generate(x=images, y=labels)"
   ]
  },
  {
   "cell_type": "code",
   "execution_count": 15,
   "id": "5619af9b",
   "metadata": {},
   "outputs": [],
   "source": [
    "patch, patch_mask = images_adv"
   ]
  },
  {
   "cell_type": "code",
   "execution_count": 16,
   "id": "bcc33977",
   "metadata": {},
   "outputs": [],
   "source": [
    "images_adv = attack.apply_patch(images, scale=1.0, patch_external=patch)"
   ]
  },
  {
   "cell_type": "code",
   "execution_count": 27,
   "id": "f55df983",
   "metadata": {},
   "outputs": [
    {
     "name": "stdout",
     "output_type": "stream",
     "text": [
      "Clean test set loss: 0.29 vs adversarial set test loss: 5.90\n",
      "Clean test set accuracy: 0.96 vs adversarial test set accuracy: 0.29\n"
     ]
    }
   ],
   "source": [
    "# Evaluating the model on clean images\n",
    "score_clean = target_model.evaluate(\n",
    "    x=images, \n",
    "    y=labels\n",
    "    )\n",
    "\n",
    "# Evaluating the model on adversarial images\n",
    "score_adv = target_model.evaluate(\n",
    "    x=images_adv, \n",
    "    y=labels\n",
    "    )\n",
    "\n",
    "# Comparing test losses\n",
    "print(f\"Clean test set loss: {score_clean[0]:.2f} \" \n",
    "      f\"vs adversarial set test loss: {score_adv[0]:.2f}\")\n",
    "\n",
    "# Comparing test accuracies\n",
    "print(f\"Clean test set accuracy: {score_clean[1]:.2f} \" \n",
    "      f\"vs adversarial test set accuracy: {score_adv[1]:.2f}\")\n"
   ]
  },
  {
   "cell_type": "markdown",
   "id": "28ff9b2d",
   "metadata": {},
   "source": [
    "Como se puede observar en este resultado el modelo al usar las imágenes adversariales tiene una accuracy mucho menor que cuando usa las imágenes normales (29% comparado con lo que antes tenía de 96%) así que podemos ver lo eficiente que es este ataque."
   ]
  },
  {
   "cell_type": "markdown",
   "id": "7cb187b5",
   "metadata": {},
   "source": [
    "## Ataque de extracción (copycat)"
   ]
  },
  {
   "cell_type": "code",
   "execution_count": 36,
   "id": "e44c49e8",
   "metadata": {},
   "outputs": [],
   "source": [
    "copycat = CopycatCNN(classifier=classifier)"
   ]
  },
  {
   "cell_type": "code",
   "execution_count": 37,
   "id": "95da5c34",
   "metadata": {},
   "outputs": [],
   "source": [
    "copycat.batch_size_fit = 128\n",
    "copycat.batch_size_query = 128\n",
    "copycat.nb_epochs = 6\n",
    "copycat.nb_stolen = n_images"
   ]
  },
  {
   "cell_type": "code",
   "execution_count": 38,
   "id": "4d032cab",
   "metadata": {},
   "outputs": [],
   "source": [
    "model_stolen = KerasClassifier(\n",
    "    model=create_blank_model(),\n",
    "    clip_values=(0,1)\n",
    ")"
   ]
  },
  {
   "cell_type": "code",
   "execution_count": 39,
   "id": "3e5b92de",
   "metadata": {},
   "outputs": [
    {
     "name": "stderr",
     "output_type": "stream",
     "text": [
      "2023-05-23 11:56:58.580753: W tensorflow/c/c_api.cc:300] Operation '{name:'dense_2_1/kernel/Assign' id:879 op device:{requested: '', assigned: ''} def:{{{node dense_2_1/kernel/Assign}} = AssignVariableOp[_has_manual_control_dependencies=true, dtype=DT_FLOAT, validate_shape=false](dense_2_1/kernel, dense_2_1/kernel/Initializer/stateless_random_uniform)}}' was changed by setting attribute after it was run by a session. This mutation will have no effect, and will trigger an error in the future. Either don't modify nodes after running them or create a new session.\n"
     ]
    },
    {
     "name": "stdout",
     "output_type": "stream",
     "text": [
      "Train on 700 samples\n",
      "Epoch 1/6\n"
     ]
    },
    {
     "name": "stderr",
     "output_type": "stream",
     "text": [
      "2023-05-23 11:56:59.120611: W tensorflow/c/c_api.cc:300] Operation '{name:'loss_2/mul' id:972 op device:{requested: '', assigned: ''} def:{{{node loss_2/mul}} = Mul[T=DT_FLOAT, _has_manual_control_dependencies=true](loss_2/mul/x, loss_2/dense_3_loss/value)}}' was changed by setting attribute after it was run by a session. This mutation will have no effect, and will trigger an error in the future. Either don't modify nodes after running them or create a new session.\n",
      "2023-05-23 11:56:59.144886: W tensorflow/c/c_api.cc:300] Operation '{name:'training_2/Adam/dense_2_1/kernel/v/Assign' id:1178 op device:{requested: '', assigned: ''} def:{{{node training_2/Adam/dense_2_1/kernel/v/Assign}} = AssignVariableOp[_has_manual_control_dependencies=true, dtype=DT_FLOAT, validate_shape=false](training_2/Adam/dense_2_1/kernel/v, training_2/Adam/dense_2_1/kernel/v/Initializer/zeros)}}' was changed by setting attribute after it was run by a session. This mutation will have no effect, and will trigger an error in the future. Either don't modify nodes after running them or create a new session.\n"
     ]
    },
    {
     "name": "stdout",
     "output_type": "stream",
     "text": [
      "700/700 [==============================] - 1s 2ms/sample - loss: 608.1128 - accuracy: 0.1643\n",
      "Epoch 2/6\n",
      "700/700 [==============================] - 1s 2ms/sample - loss: 88.9707 - accuracy: 0.5371\n",
      "Epoch 3/6\n",
      "700/700 [==============================] - 1s 2ms/sample - loss: 9.8551 - accuracy: 0.8557\n",
      "Epoch 4/6\n",
      "700/700 [==============================] - 1s 2ms/sample - loss: 1.6747 - accuracy: 0.9400\n",
      "Epoch 5/6\n",
      "700/700 [==============================] - 1s 2ms/sample - loss: 0.3569 - accuracy: 0.9586\n",
      "Epoch 6/6\n",
      "700/700 [==============================] - 1s 2ms/sample - loss: 0.0640 - accuracy: 0.9857\n"
     ]
    }
   ],
   "source": [
    "stolen_classifier = copycat.extract(\n",
    "    train_images,\n",
    "    thieved_classifier=model_stolen\n",
    ")"
   ]
  },
  {
   "cell_type": "code",
   "execution_count": 40,
   "id": "079ba706",
   "metadata": {},
   "outputs": [
    {
     "name": "stdout",
     "output_type": "stream",
     "text": [
      "Original test loss: 0.2043 vs stolen test loss: 0.0644\n",
      "Original test accuracy: 0.9667 vs stolen test accuracy: 0.9867\n"
     ]
    },
    {
     "name": "stderr",
     "output_type": "stream",
     "text": [
      "2023-05-23 11:57:08.673669: W tensorflow/c/c_api.cc:300] Operation '{name:'loss_2/mul' id:972 op device:{requested: '', assigned: ''} def:{{{node loss_2/mul}} = Mul[T=DT_FLOAT, _has_manual_control_dependencies=true](loss_2/mul/x, loss_2/dense_3_loss/value)}}' was changed by setting attribute after it was run by a session. This mutation will have no effect, and will trigger an error in the future. Either don't modify nodes after running them or create a new session.\n"
     ]
    }
   ],
   "source": [
    "# Testing the performance of the original classifier\n",
    "score_original = classifier._model.evaluate(\n",
    "    x=test_images, \n",
    "    y=test_labels\n",
    "    )\n",
    "\n",
    "# Testing the performance of the stolen classifier\n",
    "score_stolen = stolen_classifier._model.evaluate(\n",
    "    x=test_images, \n",
    "    y=test_labels\n",
    "    )\n",
    "\n",
    "# Comparing test losses\n",
    "print(f\"Original test loss: {score_original[0]:.4f} \" \n",
    "      f\"vs stolen test loss: {score_stolen[0]:.4f}\")\n",
    "\n",
    "# Comparing test accuracies\n",
    "print(f\"Original test accuracy: {score_original[1]:.4f} \" \n",
    "      f\"vs stolen test accuracy: {score_stolen[1]:.4f}\")"
   ]
  },
  {
   "cell_type": "markdown",
   "id": "466d8411",
   "metadata": {},
   "source": [
    "Como podemos observar en este resultado, el modelo que fue robado obtiene incluso mejor accuracy que el modelo original (98.6% comparado con 96.6% que es lo que tenía antes)."
   ]
  }
 ],
 "metadata": {
  "kernelspec": {
   "display_name": "tf-kernel",
   "language": "python",
   "name": "tf-kernel"
  },
  "language_info": {
   "codemirror_mode": {
    "name": "ipython",
    "version": 3
   },
   "file_extension": ".py",
   "mimetype": "text/x-python",
   "name": "python",
   "nbconvert_exporter": "python",
   "pygments_lexer": "ipython3",
   "version": "3.9.16"
  }
 },
 "nbformat": 4,
 "nbformat_minor": 5
}
