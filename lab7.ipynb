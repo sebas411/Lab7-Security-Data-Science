{
 "cells": [
  {
   "cell_type": "markdown",
   "id": "a5f51ce6",
   "metadata": {},
   "source": [
    "# Laboratorio 7 - Ataques a modelos de Deep Learning"
   ]
  },
  {
   "cell_type": "code",
   "execution_count": 13,
   "id": "baf6ae56",
   "metadata": {},
   "outputs": [],
   "source": [
    "import warnings\n",
    "warnings.filterwarnings('ignore')\n",
    "\n",
    "import os\n",
    "import cv2\n",
    "import keras\n",
    "import numpy as np\n",
    "import tensorflow as tf\n",
    "from tensorflow.keras.layers import Conv2D, MaxPool2D, Dense, Flatten\n",
    "from art.attacks.extraction import CopycatCNN\n",
    "from art.attacks.evasion import AdversarialPatch\n",
    "from art.estimators.classification import KerasClassifier\n",
    "from keras.models import load_model\n",
    "from sklearn.utils import shuffle\n",
    "\n",
    "# Disabling eager execution from TF 2\n",
    "tf.compat.v1.disable_eager_execution()"
   ]
  },
  {
   "cell_type": "code",
   "execution_count": 2,
   "id": "ebeb66f1",
   "metadata": {},
   "outputs": [],
   "source": [
    "def load_data():\n",
    "    DIRECTORY = os.getcwd()\n",
    "    DIRECTORY = os.path.join(DIRECTORY, \"malimg_paper_dataset_imgs\")\n",
    "    images = []\n",
    "    labels = []\n",
    "    i = 0\n",
    "    for folder in os.listdir(DIRECTORY):\n",
    "        folder_directory = os.path.join(DIRECTORY, folder)\n",
    "        if not os.path.isdir(folder_directory): continue\n",
    "                \n",
    "        for file in os.listdir(folder_directory):\n",
    "            img_path = os.path.join(folder_directory, file)\n",
    "            image = cv2.imread(img_path)\n",
    "            image = cv2.cvtColor(image, cv2.COLOR_BGR2RGB)\n",
    "            image = cv2.resize(image, (150, 150))\n",
    "            labels.append(i)\n",
    "            images.append(image)\n",
    "            \n",
    "        i += 1\n",
    "    \n",
    "    images = np.array(images, dtype = 'float32')\n",
    "    labels = np.array(labels, dtype = 'int32')\n",
    "    \n",
    "    return images, labels"
   ]
  },
  {
   "cell_type": "code",
   "execution_count": 3,
   "id": "73f001b5",
   "metadata": {},
   "outputs": [
    {
     "name": "stderr",
     "output_type": "stream",
     "text": [
      "2023-05-22 23:16:54.281428: I tensorflow/compiler/mlir/mlir_graph_optimization_pass.cc:353] MLIR V1 optimization pass is not enabled\n",
      "2023-05-22 23:16:54.324196: W tensorflow/c/c_api.cc:300] Operation '{name:'AssignVariableOp_2' id:148 op device:{requested: '/device:CPU:0', assigned: ''} def:{{{node AssignVariableOp_2}} = AssignVariableOp[_has_manual_control_dependencies=true, dtype=DT_FLOAT, validate_shape=false, _device=\"/device:CPU:0\"](count_1, Identity_2)}}' was changed by setting attribute after it was run by a session. This mutation will have no effect, and will trigger an error in the future. Either don't modify nodes after running them or create a new session.\n"
     ]
    }
   ],
   "source": [
    "target_model = load_model('modelo_lab6')\n",
    "classifier = KerasClassifier(model=target_model, clip_values=(0,1))"
   ]
  },
  {
   "cell_type": "code",
   "execution_count": 4,
   "id": "0386d6db",
   "metadata": {},
   "outputs": [],
   "source": [
    "images, labels = load_data()"
   ]
  },
  {
   "cell_type": "code",
   "execution_count": 5,
   "id": "47095469",
   "metadata": {},
   "outputs": [],
   "source": [
    "n_images = 1000\n",
    "images, labels = shuffle(images[:n_images], labels[:n_images], random_state=123)"
   ]
  },
  {
   "cell_type": "code",
   "execution_count": 6,
   "id": "e6b8b760",
   "metadata": {},
   "outputs": [],
   "source": [
    "breakpoint = int(n_images*0.7)\n",
    "train_images = images[:breakpoint]\n",
    "test_images = images[breakpoint:]\n",
    "test_labels = labels[breakpoint:]"
   ]
  },
  {
   "cell_type": "code",
   "execution_count": 9,
   "id": "40ea9e00",
   "metadata": {},
   "outputs": [],
   "source": [
    "def create_blank_model():\n",
    "    model = tf.keras.models.Sequential([\n",
    "        Conv2D(32, (3, 3), activation=\"relu\", input_shape=(150, 150, 3)),\n",
    "        MaxPool2D(2, 2),\n",
    "        Conv2D(32, (3, 3), activation=\"relu\"),\n",
    "        MaxPool2D(2, 2),\n",
    "        Flatten(),\n",
    "        Dense(128, activation=tf.nn.relu),     \n",
    "        Dense(25, activation=tf.nn.softmax)\n",
    "    ])\n",
    "\n",
    "    model.compile(\n",
    "        optimizer=\"adam\",\n",
    "        loss=\"sparse_categorical_crossentropy\",\n",
    "        metrics=[\"accuracy\"]\n",
    "        )\n",
    "\n",
    "    return model"
   ]
  },
  {
   "cell_type": "markdown",
   "id": "7cb187b5",
   "metadata": {},
   "source": [
    "## Ataque de extracción (copycat)"
   ]
  },
  {
   "cell_type": "code",
   "execution_count": 7,
   "id": "e44c49e8",
   "metadata": {},
   "outputs": [],
   "source": [
    "copycat = CopycatCNN(classifier=classifier)"
   ]
  },
  {
   "cell_type": "code",
   "execution_count": 8,
   "id": "95da5c34",
   "metadata": {},
   "outputs": [],
   "source": [
    "copycat.batch_size_fit = 128\n",
    "copycat.batch_size_query = 128\n",
    "copycat.nb_epochs = 6\n",
    "copycat.nb_stolen = n_images"
   ]
  },
  {
   "cell_type": "code",
   "execution_count": 10,
   "id": "4d032cab",
   "metadata": {},
   "outputs": [],
   "source": [
    "model_stolen = KerasClassifier(\n",
    "    model=create_blank_model(),\n",
    "    clip_values=(0,1)\n",
    ")"
   ]
  },
  {
   "cell_type": "code",
   "execution_count": 11,
   "id": "3e5b92de",
   "metadata": {},
   "outputs": [
    {
     "name": "stderr",
     "output_type": "stream",
     "text": [
      "2023-05-22 23:18:19.181953: W tensorflow/c/c_api.cc:300] Operation '{name:'dense_1/Softmax' id:227 op device:{requested: '', assigned: ''} def:{{{node dense_1/Softmax}} = Softmax[T=DT_FLOAT, _has_manual_control_dependencies=true](dense_1/BiasAdd)}}' was changed by setting attribute after it was run by a session. This mutation will have no effect, and will trigger an error in the future. Either don't modify nodes after running them or create a new session.\n",
      "2023-05-22 23:18:19.225701: W tensorflow/c/c_api.cc:300] Operation '{name:'conv2d_2/bias/Assign' id:367 op device:{requested: '', assigned: ''} def:{{{node conv2d_2/bias/Assign}} = AssignVariableOp[_has_manual_control_dependencies=true, dtype=DT_FLOAT, validate_shape=false](conv2d_2/bias, conv2d_2/bias/Initializer/zeros)}}' was changed by setting attribute after it was run by a session. This mutation will have no effect, and will trigger an error in the future. Either don't modify nodes after running them or create a new session.\n"
     ]
    },
    {
     "name": "stdout",
     "output_type": "stream",
     "text": [
      "Train on 700 samples\n",
      "Epoch 1/6\n"
     ]
    },
    {
     "name": "stderr",
     "output_type": "stream",
     "text": [
      "2023-05-22 23:18:20.941663: W tensorflow/c/c_api.cc:300] Operation '{name:'loss_1/mul' id:507 op device:{requested: '', assigned: ''} def:{{{node loss_1/mul}} = Mul[T=DT_FLOAT, _has_manual_control_dependencies=true](loss_1/mul/x, loss_1/dense_1_loss/value)}}' was changed by setting attribute after it was run by a session. This mutation will have no effect, and will trigger an error in the future. Either don't modify nodes after running them or create a new session.\n",
      "2023-05-22 23:18:21.005933: W tensorflow/c/c_api.cc:300] Operation '{name:'training/Adam/dense_2/kernel/v/Assign' id:714 op device:{requested: '', assigned: ''} def:{{{node training/Adam/dense_2/kernel/v/Assign}} = AssignVariableOp[_has_manual_control_dependencies=true, dtype=DT_FLOAT, validate_shape=false](training/Adam/dense_2/kernel/v, training/Adam/dense_2/kernel/v/Initializer/zeros)}}' was changed by setting attribute after it was run by a session. This mutation will have no effect, and will trigger an error in the future. Either don't modify nodes after running them or create a new session.\n"
     ]
    },
    {
     "name": "stdout",
     "output_type": "stream",
     "text": [
      "700/700 [==============================] - 4s 6ms/sample - loss: 727.4578 - accuracy: 0.2100\n",
      "Epoch 2/6\n",
      "700/700 [==============================] - 4s 6ms/sample - loss: 43.6055 - accuracy: 0.5757\n",
      "Epoch 3/6\n",
      "700/700 [==============================] - 4s 6ms/sample - loss: 0.2663 - accuracy: 0.9500\n",
      "Epoch 4/6\n",
      "700/700 [==============================] - 4s 6ms/sample - loss: 0.1473 - accuracy: 0.9700\n",
      "Epoch 5/6\n",
      "700/700 [==============================] - 4s 6ms/sample - loss: 0.0367 - accuracy: 0.9900\n",
      "Epoch 6/6\n",
      "700/700 [==============================] - 4s 5ms/sample - loss: 0.0079 - accuracy: 1.0000\n"
     ]
    }
   ],
   "source": [
    "stolen_classifier = copycat.extract(\n",
    "    train_images,\n",
    "    thieved_classifier=model_stolen\n",
    ")"
   ]
  },
  {
   "cell_type": "code",
   "execution_count": 12,
   "id": "079ba706",
   "metadata": {},
   "outputs": [
    {
     "name": "stderr",
     "output_type": "stream",
     "text": [
      "2023-05-22 23:18:45.256289: W tensorflow/c/c_api.cc:300] Operation '{name:'loss/mul' id:295 op device:{requested: '', assigned: ''} def:{{{node loss/mul}} = Mul[T=DT_FLOAT, _has_manual_control_dependencies=true](loss/mul/x, loss/dense_1_loss/value)}}' was changed by setting attribute after it was run by a session. This mutation will have no effect, and will trigger an error in the future. Either don't modify nodes after running them or create a new session.\n",
      "2023-05-22 23:18:45.880842: W tensorflow/c/c_api.cc:300] Operation '{name:'loss_1/mul' id:507 op device:{requested: '', assigned: ''} def:{{{node loss_1/mul}} = Mul[T=DT_FLOAT, _has_manual_control_dependencies=true](loss_1/mul/x, loss_1/dense_1_loss/value)}}' was changed by setting attribute after it was run by a session. This mutation will have no effect, and will trigger an error in the future. Either don't modify nodes after running them or create a new session.\n"
     ]
    },
    {
     "name": "stdout",
     "output_type": "stream",
     "text": [
      "Original test loss: 0.1371 vs stolen test loss: 0.3321\n",
      "Original test accuracy: 0.9867 vs stolen test accuracy: 0.9767\n"
     ]
    }
   ],
   "source": [
    "# Testing the performance of the original classifier\n",
    "score_original = classifier._model.evaluate(\n",
    "    x=test_images, \n",
    "    y=test_labels\n",
    "    )\n",
    "\n",
    "# Testing the performance of the stolen classifier\n",
    "score_stolen = stolen_classifier._model.evaluate(\n",
    "    x=test_images, \n",
    "    y=test_labels\n",
    "    )\n",
    "\n",
    "# Comparing test losses\n",
    "print(f\"Original test loss: {score_original[0]:.4f} \" \n",
    "      f\"vs stolen test loss: {score_stolen[0]:.4f}\")\n",
    "\n",
    "# Comparing test accuracies\n",
    "print(f\"Original test accuracy: {score_original[1]:.4f} \" \n",
    "      f\"vs stolen test accuracy: {score_stolen[1]:.4f}\")"
   ]
  },
  {
   "cell_type": "markdown",
   "id": "b9f5f139",
   "metadata": {},
   "source": [
    "## Ataque de evasión (Adversarial Patch)"
   ]
  },
  {
   "cell_type": "code",
   "execution_count": null,
   "id": "75d99e31",
   "metadata": {},
   "outputs": [],
   "source": [
    "attack = AdversarialPatch(classifier, rotation_max=22.5, scale_min=0.1, scale_max=1.0, learning_rate=5.0, max_iter=500)"
   ]
  }
 ],
 "metadata": {
  "kernelspec": {
   "display_name": "sds_kernel",
   "language": "python",
   "name": "sds_kernel"
  },
  "language_info": {
   "codemirror_mode": {
    "name": "ipython",
    "version": 3
   },
   "file_extension": ".py",
   "mimetype": "text/x-python",
   "name": "python",
   "nbconvert_exporter": "python",
   "pygments_lexer": "ipython3",
   "version": "3.11.2"
  }
 },
 "nbformat": 4,
 "nbformat_minor": 5
}
